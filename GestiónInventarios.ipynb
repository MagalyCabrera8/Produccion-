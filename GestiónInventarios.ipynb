{
  "nbformat": 4,
  "nbformat_minor": 0,
  "metadata": {
    "colab": {
      "provenance": [],
      "authorship_tag": "ABX9TyMSHcsMwMmQ1S0oOkWy4LZ9",
      "include_colab_link": true
    },
    "kernelspec": {
      "name": "python3",
      "display_name": "Python 3"
    },
    "language_info": {
      "name": "python"
    }
  },
  "cells": [
    {
      "cell_type": "markdown",
      "metadata": {
        "id": "view-in-github",
        "colab_type": "text"
      },
      "source": [
        "<a href=\"https://colab.research.google.com/github/MagalyCabrera8/Produccion-/blob/main/Gesti%C3%B3nInventarios.ipynb\" target=\"_parent\"><img src=\"https://colab.research.google.com/assets/colab-badge.svg\" alt=\"Open In Colab\"/></a>"
      ]
    },
    {
      "cell_type": "markdown",
      "source": [
        "\\ **DATOS FIJOS PARA TODO EL EJERCICIO**"
      ],
      "metadata": {
        "id": "eHXrX-qBwwod"
      }
    },
    {
      "cell_type": "code",
      "execution_count": null,
      "metadata": {
        "id": "6GELQLjKsgQ-"
      },
      "outputs": [],
      "source": [
        "#DATOS FIJOS\n",
        "import numpy as np\n",
        "from scipy.stats import norm\n",
        "import matplotlib.pyplot as plt\n",
        "from tabulate import tabulate\n",
        "\n",
        "d_hist = [\n",
        "    150, 230, 160, 120, 400, 185, 126, 250, 240, 185,\n",
        "    138, 190, 112, 295, 152, 160, 199, 136, 274, 210,\n",
        "    189, 213, 120, 127, 300, 150, 173, 192, 112, 152,\n",
        "    120, 100, 273, 188, 193, 98, 120, 120, 262, 111,\n",
        "    123, 217, 220, 251, 180, 206, 200, 300, 170, 230] # Demanda histórica para 50 días\n",
        "d_prom = np.mean(d_hist) #Demanda promedio ud/día\n",
        "dev = np.std(d_hist,ddof=1) # Desviación estandar muestral\n",
        "Cos_al = 3.5 # Costo de almacenar [$/ud]\n",
        "Cos_Inex = 5 #Costo inexistencias [$/ud]\n",
        "demanda = np.asarray([220, 470, 365, 260, 290, 205, 250, 200, 415, 180, 430, 460, 400, 345, 450]) #Pronóstico de la demanda para 15 días\n",
        "\n"
      ]
    },
    {
      "cell_type": "markdown",
      "source": [
        "# **FUNCIÓN DE KARDEX**"
      ],
      "metadata": {
        "id": "imkb1U0bwqk8"
      }
    },
    {
      "cell_type": "code",
      "metadata": {
        "id": "a5e9d0bc"
      },
      "source": [
        "import pandas as pd\n",
        "import numpy as np\n",
        "from scipy.stats import norm\n",
        "import matplotlib.pyplot as plt\n",
        "from tabulate import tabulate\n",
        "import itertools\n",
        "\n",
        "\n",
        "def SinBackOrders (Q,Ns,Lt):\n",
        "\n",
        "  d_hist = [\n",
        "      150, 230, 160, 120, 400, 185, 126, 250, 240, 185,\n",
        "      138, 190, 112, 295, 152, 160, 199, 136, 274, 210,\n",
        "      189, 213, 120, 127, 300, 150, 173, 192, 112, 152,\n",
        "      120, 100, 273, 188, 193, 98, 120, 120, 262, 111,\n",
        "      123, 217, 220, 251, 180, 206, 200, 300, 170, 230] # Demanda histórica para 50 días\n",
        "  d_prom = np.mean(d_hist) #Demanda promedio ud/día\n",
        "  dev = np.std(d_hist,ddof=1) # Desviación estandar muestral\n",
        "  Cos_al = 3.5 # Costo de almacenar [$/ud]\n",
        "  Cos_Inex = 5 #Costo inexistencias [$/ud]\n",
        "  demanda = np.asarray([220, 470, 365, 260, 290, 205, 250, 200, 415, 180, 430, 460, 400, 345, 450]) #Pronóstico de la demanda para 15 días\n",
        "  z= norm.ppf(Ns) #Cálculo de z a partir del nivel de servicio\n",
        "  R = int(np.ceil(d_prom * Lt + z*dev*(Lt)**(1/2)))\n",
        "\n",
        "  dias = np.arange(1, 16)\n",
        "  inv_bodega = np.zeros(15, dtype=int)\n",
        "  inv_bodega[0] = 1200   # Día 1 arranca con 1200\n",
        "  inv_transito = np.zeros(15, dtype=int)\n",
        "  inv_total = np.zeros(15, dtype=int)\n",
        "  orden_pedidos = np.zeros(15, dtype=int)\n",
        "  recepcion_pedidos = np.zeros(15, dtype=int)\n",
        "  ud_no_vendidas = np.zeros(15, dtype=int)\n",
        "\n",
        "  df = pd.DataFrame({\n",
        "      \"Día\": dias,\n",
        "      \"Demanda\": demanda,\n",
        "      \"Inv. Bodega\": inv_bodega,\n",
        "      \"Inv. Tránsito\": inv_transito,\n",
        "      \"Inv. Total\": inv_total,\n",
        "      \"Orden Pedidos\": orden_pedidos,\n",
        "      \"Recepción de pedidos\": recepcion_pedidos,\n",
        "      \"Ud. No vendidas\": ud_no_vendidas})\n",
        "\n",
        "  bodega = 1200\n",
        "  recepciones_prog = {}\n",
        "  transito_inicio = 0\n",
        "\n",
        "  i = 0\n",
        "  while i < len(df):\n",
        "      dia = int(df.loc[i, \"Día\"])\n",
        "      dem = int(df.loc[i, \"Demanda\"])\n",
        "\n",
        "      # 1) ¿Llega algo HOY? -> registrar recepción y sumar a bodega\n",
        "      recep_hoy = recepciones_prog.pop(dia, 0)          # 0 si no hay llegada hoy\n",
        "      df.loc[i, \"Recepción de pedidos\"] = int(recep_hoy)\n",
        "\n",
        "      # Store inventory before reception\n",
        "      inv_bodega_before_reception = bodega\n",
        "\n",
        "      bodega += recep_hoy                                # lo recibido hoy ya está en bodega\n",
        "\n",
        "      # 2) Inv. Bodega mostrado para HOY (antes de vender)\n",
        "      df.loc[i, \"Inv. Bodega\"] = int(bodega)\n",
        "\n",
        "      # 3) Tránsito de HOY = pedidos que llegarán en días > dia (no cuenta lo que llega hoy)\n",
        "      #    Tampoco cuenta el pedido que HACES hoy (ese empezará a estar en tránsito desde mañana).\n",
        "      transito_hoy = sum(q for d_llega, q in recepciones_prog.items() if d_llega > dia)\n",
        "      df.loc[i, \"Inv. Tránsito\"] = int(transito_hoy)\n",
        "\n",
        "      # 4) Total para decidir si pides\n",
        "      inv_total_para_decidir = bodega + transito_hoy\n",
        "      df.loc[i, \"Inv. Total\"] = int(inv_total_para_decidir)\n",
        "\n",
        "      # Insert duplicated row if there was a reception\n",
        "      if recep_hoy > 0:\n",
        "          new_row = df.loc[i].copy()\n",
        "          new_row[\"Inv. Bodega\"] = inv_bodega_before_reception\n",
        "          new_row[\"Recepción de pedidos\"] = int(recep_hoy) # Keep reception in the first row\n",
        "          new_row[\"Inv. Tránsito\"] = int(transito_hoy)\n",
        "          new_row[\"Inv. Total\"] = int(inv_bodega_before_reception + transito_hoy) # Calculate total before adding reception\n",
        "          new_row[\"Orden Pedidos\"] = 0 # No order decision in the first row\n",
        "          new_row[\"Ud. No vendidas\"] = 0 # No sales in the first row\n",
        "\n",
        "\n",
        "          df = pd.concat([df.iloc[:i], pd.DataFrame([new_row]), df.iloc[i:]]).reset_index(drop=True)\n",
        "          i += 1 # Increment index to process the inserted row next\n",
        "\n",
        "          # Update the current row after reception\n",
        "          df.loc[i, \"Inv. Bodega\"] = int(bodega)\n",
        "          df.loc[i, \"Inv. Tránsito\"] = int(transito_hoy)\n",
        "          df.loc[i, \"Inv. Total\"] = int(inv_total_para_decidir)\n",
        "          df.loc[i, \"Recepción de pedidos\"] = 0 # Reception is already accounted for in the previous row\n",
        "\n",
        "\n",
        "      # 5) ¿Pido HOY? Si Total < R -> orden Q; se PROGRAMA llegada a dia + Lt\n",
        "      if inv_total_para_decidir < R:\n",
        "          df.loc[i, \"Orden Pedidos\"] = int(Q)\n",
        "          dia_llegada = dia + int(Lt)\n",
        "          recepciones_prog[dia_llegada] = recepciones_prog.get(dia_llegada, 0) + int(Q)\n",
        "          # Nota: NO tocamos Inv. Tránsito hoy; empezará a verse a partir de mañana.\n",
        "      else:\n",
        "          df.loc[i, \"Orden Pedidos\"] = 0\n",
        "\n",
        "      # 6) Vender para cerrar el día y dejar bodega lista para el día siguiente\n",
        "      vendidos = min(bodega, dem)\n",
        "      no_vendidas = dem - vendidos\n",
        "      bodega -= vendidos\n",
        "      df.loc[i, \"Ud. No vendidas\"] = int(no_vendidas)\n",
        "\n",
        "      i += 1\n",
        "  inv_promedio = df[\"Inv. Bodega\"].sum() / df[\"Día\"].iloc[-1]\n",
        "  can_no_venidas = df[\"Ud. No vendidas\"].sum()\n",
        "  costo_almacenaje = inv_promedio * Cos_al\n",
        "  costo_inexistencias = can_no_venidas * Cos_Inex\n",
        "  costo_total = costo_almacenaje + costo_inexistencias\n",
        "  return df, inv_promedio, costo_almacenaje, can_no_venidas, costo_inexistencias, costo_total,R"
      ],
      "execution_count": null,
      "outputs": []
    },
    {
      "cell_type": "markdown",
      "source": [
        "**ESCENARIO A**"
      ],
      "metadata": {
        "id": "HsYQte-Eldmp"
      }
    },
    {
      "cell_type": "code",
      "source": [
        "## ESCENARIO A\n",
        "QA = int(np.ceil(7*d_prom)) #Cantidad de lote [ud]\n",
        "NsA = 0.75 #Nivel de servicio\n",
        "LtA = 5 #Lead time [días]\n",
        "dfA, inv_promedioA, costo_almacenajeA, can_no_venidasA, costo_inexistenciasA, costo_totalA,RA = SinBackOrders(QA,NsA,LtA)\n",
        "print(\"ESCENARIO A\")\n",
        "print(tabulate(dfA, headers='keys', tablefmt='fancy_grid', showindex=False))\n",
        "print(f\"Inventario promedio: {inv_promedioA}\")\n",
        "print(f\"Costo de almacenaje $: {costo_almacenajeA}\")\n",
        "print(f\"Unidades no vendidas:  {can_no_venidasA}\")\n",
        "print(f\"Costo de inexistencias $: {costo_inexistenciasA}\")\n",
        "print(f\"Costo total $: {costo_totalA}\")\n",
        "\n",
        "plt.figure(figsize=(10, 6))\n",
        "plt.plot(dfA[\"Día\"], dfA[\"Inv. Bodega\"], marker='o', color='darkblue', label='Inventario Bodega')\n",
        "plt.axhline(y=RA, color='purple', linestyle='--', label=f'Punto de Reorden (R={RA})')\n",
        "plt.xlabel(\"Día\")\n",
        "plt.ylabel(\"Inventario Bodega [ud]\")\n",
        "plt.title(\"Inventario Bodega por Día con Punto de Reorden - Escenario A\")\n",
        "plt.grid(True)\n",
        "plt.legend()\n",
        "plt.show()"
      ],
      "metadata": {
        "id": "42UL53lsjzxS",
        "colab": {
          "base_uri": "https://localhost:8080/",
          "height": 1000
        },
        "outputId": "d3f14832-30f3-4a08-e00f-d0a8cf3d0088"
      },
      "execution_count": null,
      "outputs": [
        {
          "output_type": "stream",
          "name": "stdout",
          "text": [
            "ESCENARIO A\n",
            "╒═══════╤═══════════╤═══════════════╤═════════════════╤══════════════╤═════════════════╤════════════════════════╤═══════════════════╕\n",
            "│   Día │   Demanda │   Inv. Bodega │   Inv. Tránsito │   Inv. Total │   Orden Pedidos │   Recepción de pedidos │   Ud. No vendidas │\n",
            "╞═══════╪═══════════╪═══════════════╪═════════════════╪══════════════╪═════════════════╪════════════════════════╪═══════════════════╡\n",
            "│     1 │       220 │          1200 │               0 │         1200 │               0 │                      0 │                 0 │\n",
            "├───────┼───────────┼───────────────┼─────────────────┼──────────────┼─────────────────┼────────────────────────┼───────────────────┤\n",
            "│     2 │       470 │           980 │               0 │          980 │            1306 │                      0 │                 0 │\n",
            "├───────┼───────────┼───────────────┼─────────────────┼──────────────┼─────────────────┼────────────────────────┼───────────────────┤\n",
            "│     3 │       365 │           510 │            1306 │         1816 │               0 │                      0 │                 0 │\n",
            "├───────┼───────────┼───────────────┼─────────────────┼──────────────┼─────────────────┼────────────────────────┼───────────────────┤\n",
            "│     4 │       260 │           145 │            1306 │         1451 │               0 │                      0 │               115 │\n",
            "├───────┼───────────┼───────────────┼─────────────────┼──────────────┼─────────────────┼────────────────────────┼───────────────────┤\n",
            "│     5 │       290 │             0 │            1306 │         1306 │               0 │                      0 │               290 │\n",
            "├───────┼───────────┼───────────────┼─────────────────┼──────────────┼─────────────────┼────────────────────────┼───────────────────┤\n",
            "│     6 │       205 │             0 │            1306 │         1306 │               0 │                      0 │               205 │\n",
            "├───────┼───────────┼───────────────┼─────────────────┼──────────────┼─────────────────┼────────────────────────┼───────────────────┤\n",
            "│     7 │       250 │             0 │               0 │            0 │               0 │                   1306 │                 0 │\n",
            "├───────┼───────────┼───────────────┼─────────────────┼──────────────┼─────────────────┼────────────────────────┼───────────────────┤\n",
            "│     7 │       250 │          1306 │               0 │         1306 │               0 │                      0 │                 0 │\n",
            "├───────┼───────────┼───────────────┼─────────────────┼──────────────┼─────────────────┼────────────────────────┼───────────────────┤\n",
            "│     8 │       200 │          1056 │               0 │         1056 │               0 │                      0 │                 0 │\n",
            "├───────┼───────────┼───────────────┼─────────────────┼──────────────┼─────────────────┼────────────────────────┼───────────────────┤\n",
            "│     9 │       415 │           856 │               0 │          856 │            1306 │                      0 │                 0 │\n",
            "├───────┼───────────┼───────────────┼─────────────────┼──────────────┼─────────────────┼────────────────────────┼───────────────────┤\n",
            "│    10 │       180 │           441 │            1306 │         1747 │               0 │                      0 │                 0 │\n",
            "├───────┼───────────┼───────────────┼─────────────────┼──────────────┼─────────────────┼────────────────────────┼───────────────────┤\n",
            "│    11 │       430 │           261 │            1306 │         1567 │               0 │                      0 │               169 │\n",
            "├───────┼───────────┼───────────────┼─────────────────┼──────────────┼─────────────────┼────────────────────────┼───────────────────┤\n",
            "│    12 │       460 │             0 │            1306 │         1306 │               0 │                      0 │               460 │\n",
            "├───────┼───────────┼───────────────┼─────────────────┼──────────────┼─────────────────┼────────────────────────┼───────────────────┤\n",
            "│    13 │       400 │             0 │            1306 │         1306 │               0 │                      0 │               400 │\n",
            "├───────┼───────────┼───────────────┼─────────────────┼──────────────┼─────────────────┼────────────────────────┼───────────────────┤\n",
            "│    14 │       345 │             0 │               0 │            0 │               0 │                   1306 │                 0 │\n",
            "├───────┼───────────┼───────────────┼─────────────────┼──────────────┼─────────────────┼────────────────────────┼───────────────────┤\n",
            "│    14 │       345 │          1306 │               0 │         1306 │               0 │                      0 │                 0 │\n",
            "├───────┼───────────┼───────────────┼─────────────────┼──────────────┼─────────────────┼────────────────────────┼───────────────────┤\n",
            "│    15 │       450 │           961 │               0 │          961 │            1306 │                      0 │                 0 │\n",
            "╘═══════╧═══════════╧═══════════════╧═════════════════╧══════════════╧═════════════════╧════════════════════════╧═══════════════════╛\n",
            "Inventario promedio: 601.4666666666667\n",
            "Costo de almacenaje $: 2105.133333333333\n",
            "Unidades no vendidas:  1639\n",
            "Costo de inexistencias $: 8195\n",
            "Costo total $: 10300.133333333333\n"
          ]
        },
        {
          "output_type": "display_data",
          "data": {
            "text/plain": [
              "<Figure size 1000x600 with 1 Axes>"
            ],
            "image/png": "[encoded data removed]"
          },
          "metadata": {}
        }
      ]
    },
    {
      "cell_type": "markdown",
      "source": [
        "**ESCENARIO B**"
      ],
      "metadata": {
        "id": "KvAweTugl0I6"
      }
    },
    {
      "cell_type": "code",
      "source": [
        "\n",
        "## ESCENARIO B\n",
        "QB = int(np.ceil(7*d_prom)) #Cantidad de lote [ud]\n",
        "NsB = 0.99 #Nivel de servicio\n",
        "LtB = 5 #Lead time [días]\n",
        "dfB, inv_promedioB, costo_almacenajeB, can_no_venidasB, costo_inexistenciasB, costo_totalB,RB = SinBackOrders(QB,NsB,LtB)\n",
        "print(\"ESCENARIO B\")\n",
        "print(tabulate(dfB, headers='keys', tablefmt='fancy_grid', showindex=False))\n",
        "print(f\"Inventario promedio: {inv_promedioB}\")\n",
        "print(f\"Costo de almacenaje $: {costo_almacenajeB}\")\n",
        "print(f\"Unidades no vendidas:  {can_no_venidasB}\")\n",
        "print(f\"Costo de inexistencias $: {costo_inexistenciasB}\")\n",
        "print(f\"Costo total $: {costo_totalB}\")"
      ],
      "metadata": {
        "colab": {
          "base_uri": "https://localhost:8080/"
        },
        "id": "QFLWKLLSlzlE",
        "outputId": "ff831985-4920-487e-c87c-82d35da6beeb"
      },
      "execution_count": null,
      "outputs": [
        {
          "output_type": "stream",
          "name": "stdout",
          "text": [
            "ESCENARIO B\n",
            "╒═══════╤═══════════╤═══════════════╤═════════════════╤══════════════╤═════════════════╤════════════════════════╤═══════════════════╕\n",
            "│   Día │   Demanda │   Inv. Bodega │   Inv. Tránsito │   Inv. Total │   Orden Pedidos │   Recepción de pedidos │   Ud. No vendidas │\n",
            "╞═══════╪═══════════╪═══════════════╪═════════════════╪══════════════╪═════════════════╪════════════════════════╪═══════════════════╡\n",
            "│     1 │       220 │          1200 │               0 │         1200 │            1306 │                      0 │                 0 │\n",
            "├───────┼───────────┼───────────────┼─────────────────┼──────────────┼─────────────────┼────────────────────────┼───────────────────┤\n",
            "│     2 │       470 │           980 │            1306 │         2286 │               0 │                      0 │                 0 │\n",
            "├───────┼───────────┼───────────────┼─────────────────┼──────────────┼─────────────────┼────────────────────────┼───────────────────┤\n",
            "│     3 │       365 │           510 │            1306 │         1816 │               0 │                      0 │                 0 │\n",
            "├───────┼───────────┼───────────────┼─────────────────┼──────────────┼─────────────────┼────────────────────────┼───────────────────┤\n",
            "│     4 │       260 │           145 │            1306 │         1451 │               0 │                      0 │               115 │\n",
            "├───────┼───────────┼───────────────┼─────────────────┼──────────────┼─────────────────┼────────────────────────┼───────────────────┤\n",
            "│     5 │       290 │             0 │            1306 │         1306 │               0 │                      0 │               290 │\n",
            "├───────┼───────────┼───────────────┼─────────────────┼──────────────┼─────────────────┼────────────────────────┼───────────────────┤\n",
            "│     6 │       205 │             0 │               0 │            0 │               0 │                   1306 │                 0 │\n",
            "├───────┼───────────┼───────────────┼─────────────────┼──────────────┼─────────────────┼────────────────────────┼───────────────────┤\n",
            "│     6 │       205 │          1306 │               0 │         1306 │               0 │                      0 │                 0 │\n",
            "├───────┼───────────┼───────────────┼─────────────────┼──────────────┼─────────────────┼────────────────────────┼───────────────────┤\n",
            "│     7 │       250 │          1101 │               0 │         1101 │            1306 │                      0 │                 0 │\n",
            "├───────┼───────────┼───────────────┼─────────────────┼──────────────┼─────────────────┼────────────────────────┼───────────────────┤\n",
            "│     8 │       200 │           851 │            1306 │         2157 │               0 │                      0 │                 0 │\n",
            "├───────┼───────────┼───────────────┼─────────────────┼──────────────┼─────────────────┼────────────────────────┼───────────────────┤\n",
            "│     9 │       415 │           651 │            1306 │         1957 │               0 │                      0 │                 0 │\n",
            "├───────┼───────────┼───────────────┼─────────────────┼──────────────┼─────────────────┼────────────────────────┼───────────────────┤\n",
            "│    10 │       180 │           236 │            1306 │         1542 │               0 │                      0 │                 0 │\n",
            "├───────┼───────────┼───────────────┼─────────────────┼──────────────┼─────────────────┼────────────────────────┼───────────────────┤\n",
            "│    11 │       430 │            56 │            1306 │         1362 │               0 │                      0 │               374 │\n",
            "├───────┼───────────┼───────────────┼─────────────────┼──────────────┼─────────────────┼────────────────────────┼───────────────────┤\n",
            "│    12 │       460 │             0 │               0 │            0 │               0 │                   1306 │                 0 │\n",
            "├───────┼───────────┼───────────────┼─────────────────┼──────────────┼─────────────────┼────────────────────────┼───────────────────┤\n",
            "│    12 │       460 │          1306 │               0 │         1306 │               0 │                      0 │                 0 │\n",
            "├───────┼───────────┼───────────────┼─────────────────┼──────────────┼─────────────────┼────────────────────────┼───────────────────┤\n",
            "│    13 │       400 │           846 │               0 │          846 │            1306 │                      0 │                 0 │\n",
            "├───────┼───────────┼───────────────┼─────────────────┼──────────────┼─────────────────┼────────────────────────┼───────────────────┤\n",
            "│    14 │       345 │           446 │            1306 │         1752 │               0 │                      0 │                 0 │\n",
            "├───────┼───────────┼───────────────┼─────────────────┼──────────────┼─────────────────┼────────────────────────┼───────────────────┤\n",
            "│    15 │       450 │           101 │            1306 │         1407 │               0 │                      0 │               349 │\n",
            "╘═══════╧═══════════╧═══════════════╧═════════════════╧══════════════╧═════════════════╧════════════════════════╧═══════════════════╛\n",
            "Inventario promedio: 649.0\n",
            "Costo de almacenaje $: 2271.5\n",
            "Unidades no vendidas:  1128\n",
            "Costo de inexistencias $: 5640\n",
            "Costo total $: 7911.5\n"
          ]
        }
      ]
    },
    {
      "cell_type": "markdown",
      "source": [
        "**ESCENARIO C**"
      ],
      "metadata": {
        "id": "IWMGROD9mI7u"
      }
    },
    {
      "cell_type": "code",
      "source": [
        "## ESCENARIO C\n",
        "QC = int(np.ceil(10*d_prom)) #Cantidad de lote [ud]\n",
        "NsC = 0.75 #Nivel de servicio\n",
        "LtC = 5 #Lead time [días]\n",
        "dfC, inv_promedioC, costo_almacenajeC, can_no_venidasC, costo_inexistenciasC, costo_totalC,RC = SinBackOrders(QC,NsC,LtC)\n",
        "print(\"ESCENARIO C\")\n",
        "print(tabulate(dfC, headers='keys', tablefmt='fancy_grid', showindex=False))\n",
        "print(f\"Inventario promedio: {inv_promedioC}\")\n",
        "print(f\"Costo de almacenaje $: {costo_almacenajeC}\")\n",
        "print(f\"Unidades no vendidas:  {can_no_venidasC}\")\n",
        "print(f\"Costo de inexistencias $: {costo_inexistenciasC}\")\n",
        "print(f\"Costo total $: {costo_totalC}\")"
      ],
      "metadata": {
        "colab": {
          "base_uri": "https://localhost:8080/"
        },
        "id": "qGa367WTmMEv",
        "outputId": "908bce67-499d-4ea6-b6b3-b486142fdafb"
      },
      "execution_count": null,
      "outputs": [
        {
          "output_type": "stream",
          "name": "stdout",
          "text": [
            "ESCENARIO C\n",
            "╒═══════╤═══════════╤═══════════════╤═════════════════╤══════════════╤═════════════════╤════════════════════════╤═══════════════════╕\n",
            "│   Día │   Demanda │   Inv. Bodega │   Inv. Tránsito │   Inv. Total │   Orden Pedidos │   Recepción de pedidos │   Ud. No vendidas │\n",
            "╞═══════╪═══════════╪═══════════════╪═════════════════╪══════════════╪═════════════════╪════════════════════════╪═══════════════════╡\n",
            "│     1 │       220 │          1200 │               0 │         1200 │               0 │                      0 │                 0 │\n",
            "├───────┼───────────┼───────────────┼─────────────────┼──────────────┼─────────────────┼────────────────────────┼───────────────────┤\n",
            "│     2 │       470 │           980 │               0 │          980 │            1865 │                      0 │                 0 │\n",
            "├───────┼───────────┼───────────────┼─────────────────┼──────────────┼─────────────────┼────────────────────────┼───────────────────┤\n",
            "│     3 │       365 │           510 │            1865 │         2375 │               0 │                      0 │                 0 │\n",
            "├───────┼───────────┼───────────────┼─────────────────┼──────────────┼─────────────────┼────────────────────────┼───────────────────┤\n",
            "│     4 │       260 │           145 │            1865 │         2010 │               0 │                      0 │               115 │\n",
            "├───────┼───────────┼───────────────┼─────────────────┼──────────────┼─────────────────┼────────────────────────┼───────────────────┤\n",
            "│     5 │       290 │             0 │            1865 │         1865 │               0 │                      0 │               290 │\n",
            "├───────┼───────────┼───────────────┼─────────────────┼──────────────┼─────────────────┼────────────────────────┼───────────────────┤\n",
            "│     6 │       205 │             0 │            1865 │         1865 │               0 │                      0 │               205 │\n",
            "├───────┼───────────┼───────────────┼─────────────────┼──────────────┼─────────────────┼────────────────────────┼───────────────────┤\n",
            "│     7 │       250 │             0 │               0 │            0 │               0 │                   1865 │                 0 │\n",
            "├───────┼───────────┼───────────────┼─────────────────┼──────────────┼─────────────────┼────────────────────────┼───────────────────┤\n",
            "│     7 │       250 │          1865 │               0 │         1865 │               0 │                      0 │                 0 │\n",
            "├───────┼───────────┼───────────────┼─────────────────┼──────────────┼─────────────────┼────────────────────────┼───────────────────┤\n",
            "│     8 │       200 │          1615 │               0 │         1615 │               0 │                      0 │                 0 │\n",
            "├───────┼───────────┼───────────────┼─────────────────┼──────────────┼─────────────────┼────────────────────────┼───────────────────┤\n",
            "│     9 │       415 │          1415 │               0 │         1415 │               0 │                      0 │                 0 │\n",
            "├───────┼───────────┼───────────────┼─────────────────┼──────────────┼─────────────────┼────────────────────────┼───────────────────┤\n",
            "│    10 │       180 │          1000 │               0 │         1000 │            1865 │                      0 │                 0 │\n",
            "├───────┼───────────┼───────────────┼─────────────────┼──────────────┼─────────────────┼────────────────────────┼───────────────────┤\n",
            "│    11 │       430 │           820 │            1865 │         2685 │               0 │                      0 │                 0 │\n",
            "├───────┼───────────┼───────────────┼─────────────────┼──────────────┼─────────────────┼────────────────────────┼───────────────────┤\n",
            "│    12 │       460 │           390 │            1865 │         2255 │               0 │                      0 │                70 │\n",
            "├───────┼───────────┼───────────────┼─────────────────┼──────────────┼─────────────────┼────────────────────────┼───────────────────┤\n",
            "│    13 │       400 │             0 │            1865 │         1865 │               0 │                      0 │               400 │\n",
            "├───────┼───────────┼───────────────┼─────────────────┼──────────────┼─────────────────┼────────────────────────┼───────────────────┤\n",
            "│    14 │       345 │             0 │            1865 │         1865 │               0 │                      0 │               345 │\n",
            "├───────┼───────────┼───────────────┼─────────────────┼──────────────┼─────────────────┼────────────────────────┼───────────────────┤\n",
            "│    15 │       450 │             0 │               0 │            0 │               0 │                   1865 │                 0 │\n",
            "├───────┼───────────┼───────────────┼─────────────────┼──────────────┼─────────────────┼────────────────────────┼───────────────────┤\n",
            "│    15 │       450 │          1865 │               0 │         1865 │               0 │                      0 │                 0 │\n",
            "╘═══════╧═══════════╧═══════════════╧═════════════════╧══════════════╧═════════════════╧════════════════════════╧═══════════════════╛\n",
            "Inventario promedio: 787.0\n",
            "Costo de almacenaje $: 2754.5\n",
            "Unidades no vendidas:  1425\n",
            "Costo de inexistencias $: 7125\n",
            "Costo total $: 9879.5\n"
          ]
        }
      ]
    },
    {
      "cell_type": "markdown",
      "source": [
        "**ESCENARIO D**\n"
      ],
      "metadata": {
        "id": "yP78JF0tnH9I"
      }
    },
    {
      "cell_type": "code",
      "source": [
        "## ESCENARIO D\n",
        "QD = int(np.ceil(7*d_prom)) #Cantidad de lote [ud]\n",
        "NsD = 0.75 #Nivel de servicio\n",
        "LtD = 3 #Lead time [días]\n",
        "dfD, inv_promedioD, costo_almacenajeD, can_no_venidasD, costo_inexistenciasD, costo_totalD,RD = SinBackOrders(QD,NsD,LtD)\n",
        "print(\"ESCENARIO D\")\n",
        "print(tabulate(dfD, headers='keys', tablefmt='fancy_grid', showindex=False))\n",
        "print(f\"Inventario promedio: {inv_promedioD}\")\n",
        "print(f\"Costo de almacenaje $: {costo_almacenajeD}\")\n",
        "print(f\"Unidades no vendidas:  {can_no_venidasD}\")\n",
        "print(f\"Costo de inexistencias $: {costo_inexistenciasD}\")\n",
        "print(f\"Costo total $: {costo_totalD}\")"
      ],
      "metadata": {
        "colab": {
          "base_uri": "https://localhost:8080/"
        },
        "id": "WFwJWYxknLs6",
        "outputId": "8ab4666a-103d-42a0-c634-4721144fa1f3"
      },
      "execution_count": null,
      "outputs": [
        {
          "output_type": "stream",
          "name": "stdout",
          "text": [
            "ESCENARIO D\n",
            "╒═══════╤═══════════╤═══════════════╤═════════════════╤══════════════╤═════════════════╤════════════════════════╤═══════════════════╕\n",
            "│   Día │   Demanda │   Inv. Bodega │   Inv. Tránsito │   Inv. Total │   Orden Pedidos │   Recepción de pedidos │   Ud. No vendidas │\n",
            "╞═══════╪═══════════╪═══════════════╪═════════════════╪══════════════╪═════════════════╪════════════════════════╪═══════════════════╡\n",
            "│     1 │       220 │          1200 │               0 │         1200 │               0 │                      0 │                 0 │\n",
            "├───────┼───────────┼───────────────┼─────────────────┼──────────────┼─────────────────┼────────────────────────┼───────────────────┤\n",
            "│     2 │       470 │           980 │               0 │          980 │               0 │                      0 │                 0 │\n",
            "├───────┼───────────┼───────────────┼─────────────────┼──────────────┼─────────────────┼────────────────────────┼───────────────────┤\n",
            "│     3 │       365 │           510 │               0 │          510 │            1306 │                      0 │                 0 │\n",
            "├───────┼───────────┼───────────────┼─────────────────┼──────────────┼─────────────────┼────────────────────────┼───────────────────┤\n",
            "│     4 │       260 │           145 │            1306 │         1451 │               0 │                      0 │               115 │\n",
            "├───────┼───────────┼───────────────┼─────────────────┼──────────────┼─────────────────┼────────────────────────┼───────────────────┤\n",
            "│     5 │       290 │             0 │            1306 │         1306 │               0 │                      0 │               290 │\n",
            "├───────┼───────────┼───────────────┼─────────────────┼──────────────┼─────────────────┼────────────────────────┼───────────────────┤\n",
            "│     6 │       205 │             0 │               0 │            0 │               0 │                   1306 │                 0 │\n",
            "├───────┼───────────┼───────────────┼─────────────────┼──────────────┼─────────────────┼────────────────────────┼───────────────────┤\n",
            "│     6 │       205 │          1306 │               0 │         1306 │               0 │                      0 │                 0 │\n",
            "├───────┼───────────┼───────────────┼─────────────────┼──────────────┼─────────────────┼────────────────────────┼───────────────────┤\n",
            "│     7 │       250 │          1101 │               0 │         1101 │               0 │                      0 │                 0 │\n",
            "├───────┼───────────┼───────────────┼─────────────────┼──────────────┼─────────────────┼────────────────────────┼───────────────────┤\n",
            "│     8 │       200 │           851 │               0 │          851 │               0 │                      0 │                 0 │\n",
            "├───────┼───────────┼───────────────┼─────────────────┼──────────────┼─────────────────┼────────────────────────┼───────────────────┤\n",
            "│     9 │       415 │           651 │               0 │          651 │               0 │                      0 │                 0 │\n",
            "├───────┼───────────┼───────────────┼─────────────────┼──────────────┼─────────────────┼────────────────────────┼───────────────────┤\n",
            "│    10 │       180 │           236 │               0 │          236 │            1306 │                      0 │                 0 │\n",
            "├───────┼───────────┼───────────────┼─────────────────┼──────────────┼─────────────────┼────────────────────────┼───────────────────┤\n",
            "│    11 │       430 │            56 │            1306 │         1362 │               0 │                      0 │               374 │\n",
            "├───────┼───────────┼───────────────┼─────────────────┼──────────────┼─────────────────┼────────────────────────┼───────────────────┤\n",
            "│    12 │       460 │             0 │            1306 │         1306 │               0 │                      0 │               460 │\n",
            "├───────┼───────────┼───────────────┼─────────────────┼──────────────┼─────────────────┼────────────────────────┼───────────────────┤\n",
            "│    13 │       400 │             0 │               0 │            0 │               0 │                   1306 │                 0 │\n",
            "├───────┼───────────┼───────────────┼─────────────────┼──────────────┼─────────────────┼────────────────────────┼───────────────────┤\n",
            "│    13 │       400 │          1306 │               0 │         1306 │               0 │                      0 │                 0 │\n",
            "├───────┼───────────┼───────────────┼─────────────────┼──────────────┼─────────────────┼────────────────────────┼───────────────────┤\n",
            "│    14 │       345 │           906 │               0 │          906 │               0 │                      0 │                 0 │\n",
            "├───────┼───────────┼───────────────┼─────────────────┼──────────────┼─────────────────┼────────────────────────┼───────────────────┤\n",
            "│    15 │       450 │           561 │               0 │          561 │            1306 │                      0 │                 0 │\n",
            "╘═══════╧═══════════╧═══════════════╧═════════════════╧══════════════╧═════════════════╧════════════════════════╧═══════════════════╛\n",
            "Inventario promedio: 653.9333333333333\n",
            "Costo de almacenaje $: 2288.7666666666664\n",
            "Unidades no vendidas:  1239\n",
            "Costo de inexistencias $: 6195\n",
            "Costo total $: 8483.766666666666\n"
          ]
        }
      ]
    },
    {
      "cell_type": "code",
      "source": [
        "\n",
        "\n",
        "Qs = [QA,QB,QC,QD]\n",
        "Nss = [NsA, NsB, NsC, NsD]\n",
        "LTT = [LtA, LtB, LtC, LtD]\n",
        "Inv_pro = [inv_promedioA, inv_promedioB, inv_promedioC, inv_promedioD]\n",
        "Cost_al = [costo_almacenajeA, costo_almacenajeB, costo_almacenajeC, costo_almacenajeD]\n",
        "Cost_in = [costo_inexistenciasA, costo_inexistenciasB, costo_inexistenciasC, costo_inexistenciasD]\n",
        "Cost_tot = [costo_totalA, costo_totalB, costo_totalC, costo_totalD]\n",
        "\n",
        "data = {\n",
        "    \"Escenario\": [\"A\", \"B\", \"C\", \"D\"],\n",
        "    \"Cantidad de lote (Q)\": Qs,\n",
        "    \"Nivel de servicio (Ns)\": Nss,\n",
        "    \"Lead time (Lt)\": LTT,\n",
        "    \"Inventario promedio\": Inv_pro,\n",
        "    \"Costo de almacenaje ($)\": Cost_al,\n",
        "    \"Costo de inexistencias ($)\": Cost_in,\n",
        "    \"Costo total ($)\": Cost_tot\n",
        "}\n",
        "\n",
        "df_summary = pd.DataFrame(data)\n",
        "\n",
        "print(tabulate(df_summary, headers='keys', tablefmt='fancy_grid', showindex=False))"
      ],
      "metadata": {
        "colab": {
          "base_uri": "https://localhost:8080/"
        },
        "id": "ZylyIzfhpVsJ",
        "outputId": "c61f3d8d-939e-4a57-bbcf-e33a80e17f1d"
      },
      "execution_count": null,
      "outputs": [
        {
          "output_type": "stream",
          "name": "stdout",
          "text": [
            "╒═════════════╤════════════════════════╤══════════════════════════╤══════════════════╤═══════════════════════╤═══════════════════════════╤══════════════════════════════╤═══════════════════╕\n",
            "│ Escenario   │   Cantidad de lote (Q) │   Nivel de servicio (Ns) │   Lead time (Lt) │   Inventario promedio │   Costo de almacenaje ($) │   Costo de inexistencias ($) │   Costo total ($) │\n",
            "╞═════════════╪════════════════════════╪══════════════════════════╪══════════════════╪═══════════════════════╪═══════════════════════════╪══════════════════════════════╪═══════════════════╡\n",
            "│ A           │                   1306 │                     0.75 │                5 │               601.467 │                   2105.13 │                         8195 │          10300.1  │\n",
            "├─────────────┼────────────────────────┼──────────────────────────┼──────────────────┼───────────────────────┼───────────────────────────┼──────────────────────────────┼───────────────────┤\n",
            "│ B           │                   1306 │                     0.99 │                5 │               649     │                   2271.5  │                         5640 │           7911.5  │\n",
            "├─────────────┼────────────────────────┼──────────────────────────┼──────────────────┼───────────────────────┼───────────────────────────┼──────────────────────────────┼───────────────────┤\n",
            "│ C           │                   1865 │                     0.75 │                5 │               787     │                   2754.5  │                         7125 │           9879.5  │\n",
            "├─────────────┼────────────────────────┼──────────────────────────┼──────────────────┼───────────────────────┼───────────────────────────┼──────────────────────────────┼───────────────────┤\n",
            "│ D           │                   1306 │                     0.75 │                3 │               653.933 │                   2288.77 │                         6195 │           8483.77 │\n",
            "╘═════════════╧════════════════════════╧══════════════════════════╧══════════════════╧═══════════════════════╧═══════════════════════════╧══════════════════════════════╧═══════════════════╛\n"
          ]
        }
      ]
    },
    {
      "cell_type": "code",
      "metadata": {
        "colab": {
          "base_uri": "https://localhost:8080/"
        },
        "id": "df2865f0",
        "outputId": "eeac70d4-d4ce-4a73-9459-8ac45da987cf"
      },
      "source": [
        "# Define plausible ranges for Q, Lt, and Ns\n",
        "Q_values = [int(np.ceil(x * d_prom)) for x in [5, 7, 10, 12,13]]\n",
        "Lt_values = [3, 5, 7, 2]\n",
        "Ns_values = [0.75, 0.85, 0.90, 0.95, 0.99]\n",
        "\n",
        "parameter_combinations = list(itertools.product(Q_values, Lt_values, Ns_values))\n",
        "\n",
        "results = []\n",
        "\n",
        "for combination in parameter_combinations:\n",
        "    Q, Lt, Ns = combination\n",
        "    df, inv_promedio, costo_almacenaje, can_no_venidas, costo_inexistencias, costo_total, R = SinBackOrders(Q, Ns, Lt)\n",
        "    results.append((combination, costo_total))\n",
        "\n",
        "\n",
        "min_cost = results[0][1]\n",
        "best_combination = results[0][0]\n",
        "\n",
        "for combination, costo_total in results:\n",
        "    if costo_total < min_cost:\n",
        "        min_cost = costo_total\n",
        "        best_combination = combination\n",
        "\n",
        "print(f\"La combinación que minimiza el costo es : {best_combination}\")\n",
        "print(f\"El menor costo total es : {min_cost}\")"
      ],
      "execution_count": null,
      "outputs": [
        {
          "output_type": "stream",
          "name": "stdout",
          "text": [
            "La combinación que minimiza el costo es : (933, 2, 0.95)\n",
            "El menor costo total es : 4610.533333333333\n"
          ]
        }
      ]
    }
  ]
}